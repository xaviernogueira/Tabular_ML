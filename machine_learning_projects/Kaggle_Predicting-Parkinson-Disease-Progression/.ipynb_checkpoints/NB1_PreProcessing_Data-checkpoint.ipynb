{
 "cells": [
  {
   "cell_type": "markdown",
   "id": "3c47a38f-3caf-4a7c-91be-d6f8195a63ab",
   "metadata": {
    "tags": []
   },
   "source": [
    "🧼 Competition Notebook 1: Data Pre-Cleaning + Imputation 🧼\n",
    "==============================================================\n",
    "\n",
    "**Author:** Xavier R Nogueira\n",
    "\n",
    "**Overview:** In this notebook we define functions to transform our training data such we can make UPDRS scores  predictions \"for each patient visit where a protein/peptide sample was taken\" as well as predictions for \"any potential visits 6, 12, and 24 months later.\" Essentially, each row of Protein/Peptide data will have the following labels associated with it of the following form `updrs_{updrs #}_plus_{# of months from visit to predict for}_months`. Do to this we will be joining future clinical data (where it exists) to each clinical visit with Protien/Peptide data. This notebook will output two `.parquet`; one with protien data and one with peptide data that will share the same index.\n",
    "\n",
    "**Notes:**\n",
    "* Some data values (such as medication status) will be joinable to our main data table for exploration purposes, but will not be part of our training dataset explicitly.\n",
    "* Since most Protiens or Peptides do not show up in a given lab sample, we will be using KNN imputation to fill in missing values for visits where data was gathered. \n",
    "* Note that we will not be using KNN imputation along the time dimension at this point, although I may consider doing so to make time-series forecasting type features (i.e., change/slope of different Protien/Peptide abundances).\n",
    "\n"
   ]
  },
  {
   "cell_type": "code",
   "execution_count": 1,
   "id": "e4aaf3ca-2eeb-4559-b630-9b63a7c8c1e4",
   "metadata": {},
   "outputs": [
    {
     "ename": "ModuleNotFoundError",
     "evalue": "No module named 'pandas.hvplot'",
     "output_type": "error",
     "traceback": [
      "\u001b[1;31m---------------------------------------------------------------------------\u001b[0m",
      "\u001b[1;31mModuleNotFoundError\u001b[0m                       Traceback (most recent call last)",
      "\u001b[1;32m~\\AppData\\Local\\Temp/ipykernel_3048/1635407648.py\u001b[0m in \u001b[0;36m<module>\u001b[1;34m\u001b[0m\n\u001b[0;32m      1\u001b[0m \u001b[1;32mimport\u001b[0m \u001b[0mpandas\u001b[0m \u001b[1;32mas\u001b[0m \u001b[0mpd\u001b[0m\u001b[1;33m\u001b[0m\u001b[1;33m\u001b[0m\u001b[0m\n\u001b[1;32m----> 2\u001b[1;33m \u001b[1;32mimport\u001b[0m \u001b[0mpandas\u001b[0m\u001b[1;33m.\u001b[0m\u001b[0mhvplot\u001b[0m\u001b[1;33m\u001b[0m\u001b[1;33m\u001b[0m\u001b[0m\n\u001b[0m\u001b[0;32m      3\u001b[0m \u001b[1;32mimport\u001b[0m \u001b[0msklearn\u001b[0m\u001b[1;33m\u001b[0m\u001b[1;33m\u001b[0m\u001b[0m\n\u001b[0;32m      4\u001b[0m \u001b[1;32mfrom\u001b[0m \u001b[0mpathlib\u001b[0m \u001b[1;32mimport\u001b[0m \u001b[0mPath\u001b[0m\u001b[1;33m\u001b[0m\u001b[1;33m\u001b[0m\u001b[0m\n",
      "\u001b[1;31mModuleNotFoundError\u001b[0m: No module named 'pandas.hvplot'"
     ]
    }
   ],
   "source": [
    "import pandas as pd\n",
    "import pandas.hvplot\n",
    "import sklearn\n",
    "from pathlib import Path"
   ]
  },
  {
   "cell_type": "code",
   "execution_count": null,
   "id": "7162ba02-c98b-4fb0-a60f-c79b31a4beaa",
   "metadata": {},
   "outputs": [],
   "source": []
  }
 ],
 "metadata": {
  "kernelspec": {
   "display_name": "Python 3 (ipykernel)",
   "language": "python",
   "name": "python3"
  },
  "language_info": {
   "codemirror_mode": {
    "name": "ipython",
    "version": 3
   },
   "file_extension": ".py",
   "mimetype": "text/x-python",
   "name": "python",
   "nbconvert_exporter": "python",
   "pygments_lexer": "ipython3",
   "version": "3.9.7"
  }
 },
 "nbformat": 4,
 "nbformat_minor": 5
}
